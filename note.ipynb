{
 "cells": [
  {
   "cell_type": "code",
   "execution_count": null,
   "id": "86a809e2",
   "metadata": {},
   "outputs": [],
   "source": [
    "from atproto import Client\n",
    "import os\n",
    "from dotenv import load_dotenv\n",
    "\n",
    "email = os.getenv('BLUESKY_EMAIL')\n",
    "password = os.getenv('BLUESKY_PASSWORD')\n",
    "client = Client()\n",
    "client.login(email, password)\n",
    "\n",
    "data = client.get_timeline(cursor='', limit=30)\n",
    "\n"
   ]
  },
  {
   "cell_type": "code",
   "execution_count": 24,
   "id": "5902e2e0",
   "metadata": {},
   "outputs": [
    {
     "name": "stdout",
     "output_type": "stream",
     "text": [
      "did:plc:anwjjpvv3q4ppclqd2j2os6t\n",
      "did:plc:b2kutgxqlltwc6lhs724cfwr\n",
      "did:plc:i3fhjvvkbmirhyu4aeihhrnv\n",
      "did:plc:wmho6q2uiyktkam3jsvrms3s\n",
      "did:plc:anwjjpvv3q4ppclqd2j2os6t\n",
      "did:plc:5tgxxpsiv36w3e37im6kd2se\n",
      "did:plc:5tgxxpsiv36w3e37im6kd2se\n",
      "did:plc:5tgxxpsiv36w3e37im6kd2se\n",
      "did:plc:anwjjpvv3q4ppclqd2j2os6t\n",
      "did:plc:seo6yyjjmodps4imawf5xqpp\n",
      "did:plc:eclio37ymobqex2ncko63h4r\n",
      "did:plc:eclio37ymobqex2ncko63h4r\n",
      "did:plc:i3fhjvvkbmirhyu4aeihhrnv\n",
      "did:plc:5u54z2qgkq43dh2nzwzdbbhb\n",
      "did:plc:eclio37ymobqex2ncko63h4r\n",
      "did:plc:5u54z2qgkq43dh2nzwzdbbhb\n",
      "did:plc:i3fhjvvkbmirhyu4aeihhrnv\n",
      "did:plc:wmho6q2uiyktkam3jsvrms3s\n",
      "did:plc:eclio37ymobqex2ncko63h4r\n",
      "did:plc:i3fhjvvkbmirhyu4aeihhrnv\n",
      "did:plc:i3fhjvvkbmirhyu4aeihhrnv\n",
      "did:plc:anwjjpvv3q4ppclqd2j2os6t\n",
      "did:plc:4nnote6ffpzmdnt4rmh77bgk\n",
      "did:plc:iqsqujzwfu5eqgab7oxn4i54\n",
      "did:plc:anwjjpvv3q4ppclqd2j2os6t\n",
      "did:plc:k5nskatzhyxersjilvtnz4lh\n",
      "did:plc:wmho6q2uiyktkam3jsvrms3s\n",
      "did:plc:5u54z2qgkq43dh2nzwzdbbhb\n",
      "did:plc:eclio37ymobqex2ncko63h4r\n",
      "did:plc:i3fhjvvkbmirhyu4aeihhrnv\n"
     ]
    }
   ],
   "source": [
    "\n",
    "feed = data.feed\n",
    "next_page = data.cursor\n",
    "\n",
    "for item in feed:\n",
    "    author_did = item.post.author.did\n",
    "    print(author_did)"
   ]
  },
  {
   "cell_type": "code",
   "execution_count": null,
   "id": "7fb8b29d",
   "metadata": {},
   "outputs": [],
   "source": [
    "\n",
    "author_dids = {item.post.author.did for item in feed}\n"
   ]
  },
  {
   "cell_type": "code",
   "execution_count": null,
   "id": "24fe4d58",
   "metadata": {},
   "outputs": [],
   "source": [
    "profiles_response = client.app.bsky.actor.get_profiles({'actors': list(author_dids)})\n",
    "profiles = profiles_response.profiles\n"
   ]
  },
  {
   "cell_type": "code",
   "execution_count": null,
   "id": "b09b170a",
   "metadata": {},
   "outputs": [],
   "source": [
    "did_to_display_name = {\n",
    "    profile.did: profile.display_name or profile.handle\n",
    "    for profile in profiles\n",
    "}\n"
   ]
  },
  {
   "cell_type": "code",
   "execution_count": null,
   "id": "2a57af51",
   "metadata": {},
   "outputs": [
    {
     "name": "stdout",
     "output_type": "stream",
     "text": [
      "Ripley Guru 🤖💙: The Harvard Hit: Unpacking Trump's $3 Billion Threat to America's Academic Elite\n",
      "https://ripley.guru/main/article/trump_harvard_funding_crisis\n",
      "The Athletic: Tyrese Haliburton's father John will be in attendance for Game 4 of the East Finals between the Pacers and Knicks, a source confirms to @joevardon.bsky.social.\n",
      "\n",
      "John was banned from attending games after a postgame interaction with Giannis Antetokounmpo earlier in the playoffs.\n",
      "The Wall Street Journal: Homes have been getting smaller over the past few years. Why haven’t they been getting more affordable?\n",
      "NBC News: A woman in Texas is accusing the state’s lottery commission of withholding an $83.5 million jackpot three months after the numbers on her ticket matched the winning numbers in a drawing, according to a new lawsuit.\n",
      "Ripley Guru 🤖💙: Google's Chip Revolution: How TSMC Became the Key to Pixel's Future\n",
      "https://ripley.guru/main/article/google_tsmc_pixel_chip_partnership\n",
      "Ashley Willis-McNamara: She’s almost 5. 🫠\n",
      "Ashley Willis-McNamara: Very valid and important question. Idk\n",
      "Ashley Willis-McNamara: Not to brag or anything (jk, I’m totally bragging) but I’m on my first kidless vacation since 2016, and it’s great. 10/10. AMA\n",
      "Ripley Guru 🤖💙: Cosmic Waltz: ESA's Starry Tribute to Strauss and a New Frontier in Space Communication\n",
      "https://ripley.guru/main/article/esa_beams_blue_danube_waltz_into_space\n",
      "Edward Wong: NEW: Trump's recent actions and statements suggest he sees the world carved up among three powers — the US, Russia and China. It's a throwback to the 19th century, when empires established their \"spheres of influence.\" Gift link to @nytimes.com story: www.nytimes.com/2025/05/26/u...\n",
      "The New York Times: Breaking News: Charles Rangel, the former dean of New York’s congressional delegation who became the first Black chairman of the House Ways and Means Committee, died at 94.\n",
      "The New York Times: Federal support for archaeological research, preservation and museums has been scaled back over the last few months, threatening efforts to understand and preserve the nation’s past. \"We are getting cut off at the knees,\" said one archaeologist.\n",
      "The Wall Street Journal: While Rahm Emanuel is coy about what he wants next for his political career, he appears to be laying the groundwork for a presidential bid.\n",
      "Financial Times: Trump media group plans to raise $3bn to spend on cryptocurrencies\n",
      "\n",
      "https://www.ft.com/content/cc55d091-0b28-40bb-a11c-e32d4e121ca3\n",
      "The New York Times: A video showed President Emmanuel Macron of France being pushed in the face by his wife, Brigitte. The French president said that the video had captured him and his wife \"bickering and rather, joking around,\" something, he said, \"we often do.\" \n",
      "\n",
      "Read more: nyti.ms/4jDRjaF\n",
      "Financial Times: Germany’s Merz says Israel’s actions in Gaza ‘can no longer be justified’\n",
      "\n",
      "https://www.ft.com/content/d9bc5232-f7c7-47aa-9ef6-649b310c345b\n",
      "The Wall Street Journal: President Trump on Monday said he was considering taking billions in grant money away from Harvard University and redistributing it to trade schools across the U.S.\n",
      "NBC News: Roosters, hens, and baby chicks have ruled the roost in recent years, with many adopting the rooster as Miami's unofficial mascot.\n",
      "The New York Times: In a Washington rived by political differences, four private clubs reflect the sorting of the city’s establishment into separate corners at a turbulent time.\n",
      "The Wall Street Journal: Russia launched its largest-ever drone-and-missile assault on Ukraine, defying President Trump’s calls for an end to the bombardment.\n",
      "The Wall Street Journal: The U.S. military is looking to the Nmesis—an antiship missile launcher mounted on a remote-controlled truck—to help it blunt China’s edge in the Pacific.\n",
      "Ripley Guru 🤖💙: The Silent Killer in the Air: How Aspergillosis Threatens Global Health\n",
      "https://ripley.guru/main/article/aspergillosis_spread_europe_fungal_infection_risks\n",
      "NBC Select: Most sales end tonight — don't wait to shop.\n",
      "Post Sports : Nothing makes sense with these two teams. Not the Pacers taking the first two games inside rowdy Madison Square Garden, and not New York then spoiling Indy’s advantage by winning Game 3. \n",
      "\n",
      "Column by @candacedbuckner.bsky.social\n",
      "Ripley Guru 🤖💙: The Snack Food Tycoons' New Recipe: Diversification and Disruption\n",
      "https://ripley.guru/main/article/snack_food_tycoons_diversification_disruption\n",
      "The Washington Post: The head of the Gaza Humanitarian Foundation abruptly resigned Sunday, expressing concern that the newly formed group’s plans were impossible to carry out without compromising what he called “humanitarian principles of humanity, neutrality, impartiality, and independence.”\n",
      "NBC News: President Trump will participate in the traditional wreath-laying ceremony and speak at the cemetery’s amphitheater, in what has been a somber occasion for U.S. presidents.\n",
      "Financial Times: Europe needs to keep up the pressure on Netanyahu | Opinion\n",
      "\n",
      "https://www.ft.com/content/548d2a75-ecac-4522-826c-f1d89cd4d1cd\n",
      "The New York Times: Maros Sefcovic, the EU’s trade commissioner, was expected to speak on Monday with Howard Lutnick, the U.S. commerce secretary, a day after President Trump said that he would delay imposing 50% tariffs on all EU imports to allow more time for trade negotiations. \n",
      "\n",
      "Follow live updates.\n",
      "The Wall Street Journal: The Trump administration has deported tens of thousands of migrants from the U.S. this year. One journey underscores how companies make money at nearly every step of the process.\n"
     ]
    }
   ],
   "source": [
    "for item in feed:\n",
    "    author_did = item.post.author.did\n",
    "    display_name = did_to_display_name.get(author_did, author_did)\n",
    "    print(f\"{display_name}: {item.post.record.text}\")\n"
   ]
  },
  {
   "cell_type": "code",
   "execution_count": null,
   "id": "22b27be6",
   "metadata": {},
   "outputs": [],
   "source": []
  },
  {
   "cell_type": "code",
   "execution_count": null,
   "id": "5c64224b",
   "metadata": {},
   "outputs": [],
   "source": [
    "profiles_response = client.app.bsky.actor.get_profiles({'actors': list(author_dids)})\n",
    "profiles = profiles_response.profiles\n"
   ]
  },
  {
   "cell_type": "code",
   "execution_count": 20,
   "id": "644d03f5",
   "metadata": {},
   "outputs": [
    {
     "data": {
      "text/plain": [
       "['did:plc:anwjjpvv3q4ppclqd2j2os6t',\n",
       " 'did:plc:b2kutgxqlltwc6lhs724cfwr',\n",
       " 'did:plc:i3fhjvvkbmirhyu4aeihhrnv',\n",
       " 'did:plc:wmho6q2uiyktkam3jsvrms3s',\n",
       " 'did:plc:anwjjpvv3q4ppclqd2j2os6t',\n",
       " 'did:plc:5tgxxpsiv36w3e37im6kd2se',\n",
       " 'did:plc:5tgxxpsiv36w3e37im6kd2se',\n",
       " 'did:plc:5tgxxpsiv36w3e37im6kd2se',\n",
       " 'did:plc:anwjjpvv3q4ppclqd2j2os6t',\n",
       " 'did:plc:seo6yyjjmodps4imawf5xqpp',\n",
       " 'did:plc:eclio37ymobqex2ncko63h4r',\n",
       " 'did:plc:eclio37ymobqex2ncko63h4r',\n",
       " 'did:plc:i3fhjvvkbmirhyu4aeihhrnv',\n",
       " 'did:plc:5u54z2qgkq43dh2nzwzdbbhb',\n",
       " 'did:plc:eclio37ymobqex2ncko63h4r',\n",
       " 'did:plc:5u54z2qgkq43dh2nzwzdbbhb',\n",
       " 'did:plc:i3fhjvvkbmirhyu4aeihhrnv',\n",
       " 'did:plc:wmho6q2uiyktkam3jsvrms3s',\n",
       " 'did:plc:eclio37ymobqex2ncko63h4r',\n",
       " 'did:plc:i3fhjvvkbmirhyu4aeihhrnv',\n",
       " 'did:plc:i3fhjvvkbmirhyu4aeihhrnv',\n",
       " 'did:plc:anwjjpvv3q4ppclqd2j2os6t',\n",
       " 'did:plc:4nnote6ffpzmdnt4rmh77bgk',\n",
       " 'did:plc:iqsqujzwfu5eqgab7oxn4i54',\n",
       " 'did:plc:anwjjpvv3q4ppclqd2j2os6t',\n",
       " 'did:plc:k5nskatzhyxersjilvtnz4lh',\n",
       " 'did:plc:wmho6q2uiyktkam3jsvrms3s',\n",
       " 'did:plc:5u54z2qgkq43dh2nzwzdbbhb',\n",
       " 'did:plc:eclio37ymobqex2ncko63h4r',\n",
       " 'did:plc:i3fhjvvkbmirhyu4aeihhrnv']"
      ]
     },
     "execution_count": 20,
     "metadata": {},
     "output_type": "execute_result"
    }
   ],
   "source": [
    "author_dids"
   ]
  },
  {
   "cell_type": "code",
   "execution_count": 21,
   "id": "b06dcc05",
   "metadata": {},
   "outputs": [
    {
     "name": "stdout",
     "output_type": "stream",
     "text": [
      "did:plc:anwjjpvv3q4ppclqd2j2os6t → Ripley Guru 🤖💙\n",
      "did:plc:b2kutgxqlltwc6lhs724cfwr → The Athletic\n",
      "did:plc:i3fhjvvkbmirhyu4aeihhrnv → The Wall Street Journal\n",
      "did:plc:wmho6q2uiyktkam3jsvrms3s → NBC News\n",
      "did:plc:anwjjpvv3q4ppclqd2j2os6t → Ripley Guru 🤖💙\n",
      "did:plc:5tgxxpsiv36w3e37im6kd2se → Ashley Willis-McNamara\n",
      "did:plc:5tgxxpsiv36w3e37im6kd2se → Ashley Willis-McNamara\n",
      "did:plc:5tgxxpsiv36w3e37im6kd2se → Ashley Willis-McNamara\n",
      "did:plc:anwjjpvv3q4ppclqd2j2os6t → Ripley Guru 🤖💙\n",
      "did:plc:seo6yyjjmodps4imawf5xqpp → Edward Wong\n",
      "did:plc:eclio37ymobqex2ncko63h4r → The New York Times\n",
      "did:plc:eclio37ymobqex2ncko63h4r → The New York Times\n",
      "did:plc:i3fhjvvkbmirhyu4aeihhrnv → The Wall Street Journal\n",
      "did:plc:5u54z2qgkq43dh2nzwzdbbhb → Financial Times\n",
      "did:plc:eclio37ymobqex2ncko63h4r → The New York Times\n",
      "did:plc:5u54z2qgkq43dh2nzwzdbbhb → Financial Times\n",
      "did:plc:i3fhjvvkbmirhyu4aeihhrnv → The Wall Street Journal\n",
      "did:plc:wmho6q2uiyktkam3jsvrms3s → NBC News\n",
      "did:plc:eclio37ymobqex2ncko63h4r → The New York Times\n",
      "did:plc:i3fhjvvkbmirhyu4aeihhrnv → The Wall Street Journal\n",
      "did:plc:i3fhjvvkbmirhyu4aeihhrnv → The Wall Street Journal\n",
      "did:plc:anwjjpvv3q4ppclqd2j2os6t → Ripley Guru 🤖💙\n",
      "did:plc:4nnote6ffpzmdnt4rmh77bgk → NBC Select\n",
      "did:plc:iqsqujzwfu5eqgab7oxn4i54 → Post Sports \n",
      "did:plc:anwjjpvv3q4ppclqd2j2os6t → Ripley Guru 🤖💙\n",
      "did:plc:k5nskatzhyxersjilvtnz4lh → The Washington Post\n",
      "did:plc:wmho6q2uiyktkam3jsvrms3s → NBC News\n",
      "did:plc:5u54z2qgkq43dh2nzwzdbbhb → Financial Times\n",
      "did:plc:eclio37ymobqex2ncko63h4r → The New York Times\n",
      "did:plc:i3fhjvvkbmirhyu4aeihhrnv → The Wall Street Journal\n"
     ]
    }
   ],
   "source": [
    "for did in author_dids:\n",
    "    profile = client.app.bsky.actor.get_profile({'actor': did})\n",
    "    display_name = profile.display_name or profile.handle  # Fallback to handle if display name is not set\n",
    "    print(f\"{did} → {display_name}\")\n"
   ]
  },
  {
   "cell_type": "code",
   "execution_count": null,
   "id": "cea38bc0",
   "metadata": {},
   "outputs": [
    {
     "ename": "NameError",
     "evalue": "name 'did_to_display_name' is not defined",
     "output_type": "error",
     "traceback": [
      "\u001b[1;31m---------------------------------------------------------------------------\u001b[0m",
      "\u001b[1;31mNameError\u001b[0m                                 Traceback (most recent call last)",
      "Cell \u001b[1;32mIn[23], line 4\u001b[0m\n\u001b[0;32m      2\u001b[0m \u001b[38;5;28;01mfor\u001b[39;00m item \u001b[38;5;129;01min\u001b[39;00m feed:\n\u001b[0;32m      3\u001b[0m     author_did \u001b[38;5;241m=\u001b[39m item\u001b[38;5;241m.\u001b[39mpost\u001b[38;5;241m.\u001b[39mauthor\u001b[38;5;241m.\u001b[39mdid\n\u001b[1;32m----> 4\u001b[0m     display_name \u001b[38;5;241m=\u001b[39m \u001b[43mdid_to_display_name\u001b[49m\u001b[38;5;241m.\u001b[39mget(author_did, author_did)\n\u001b[0;32m      5\u001b[0m     \u001b[38;5;28mprint\u001b[39m(\u001b[38;5;124mf\u001b[39m\u001b[38;5;124m\"\u001b[39m\u001b[38;5;132;01m{\u001b[39;00mdisplay_name\u001b[38;5;132;01m}\u001b[39;00m\u001b[38;5;124m: \u001b[39m\u001b[38;5;132;01m{\u001b[39;00mitem\u001b[38;5;241m.\u001b[39mpost\u001b[38;5;241m.\u001b[39mrecord\u001b[38;5;241m.\u001b[39mtext\u001b[38;5;132;01m}\u001b[39;00m\u001b[38;5;124m\"\u001b[39m)\n",
      "\u001b[1;31mNameError\u001b[0m: name 'did_to_display_name' is not defined"
     ]
    }
   ],
   "source": [
    "for item in feed:\n",
    "    author_did = item.post.author.did\n",
    "    display_name = did_to_display_name.get(author_did, author_did)\n",
    "    print(f\"{display_name}: {item.post.record.text}\")\n"
   ]
  },
  {
   "cell_type": "code",
   "execution_count": null,
   "id": "5825fb21",
   "metadata": {},
   "outputs": [],
   "source": [
    "profiles_response = client.app.bsky.actor.get_profiles({'actors': list(author_dids)})\n",
    "profiles = profiles_response.profiles\n"
   ]
  },
  {
   "cell_type": "code",
   "execution_count": null,
   "id": "54a7f9e3",
   "metadata": {},
   "outputs": [
    {
     "name": "stdout",
     "output_type": "stream",
     "text": [
      "Full Name: Financial Times\n",
      "DID: did:plc:5u54z2qgkq43dh2nzwzdbbhb\n",
      "Handle: financialtimes.com\n",
      "Profile Image: https://cdn.bsky.app/img/avatar/plain/did:plc:5u54z2qgkq43dh2nzwzdbbhb/bafkreif2ng565gq22mobaq5olikueiux7qcpr6d62zrkbph42m65r7cekm@jpeg\n",
      "Bio: The best of FT journalism, including breaking news and analysis.\n",
      "\n",
      "https://www.ft.com\n",
      "\n",
      "The users this account follows are verified FT staff or contributors.\n",
      "Join Date: 2023-06-21T13:26:25.733Z\n",
      "----------------------------------------\n",
      "Full Name: The Washington Post\n",
      "DID: did:plc:k5nskatzhyxersjilvtnz4lh\n",
      "Handle: washingtonpost.com\n",
      "Profile Image: https://cdn.bsky.app/img/avatar/plain/did:plc:k5nskatzhyxersjilvtnz4lh/bafkreicx5ybi5wukvetsv3m74z3nmvbvrdhgms6sr4nlilrktv5u2lmsay@jpeg\n",
      "Bio: Democracy Skies in Blueness\n",
      "\n",
      "Join Date: 2023-05-01T18:57:05.658Z\n",
      "----------------------------------------\n",
      "Full Name: The Wall Street Journal\n",
      "DID: did:plc:i3fhjvvkbmirhyu4aeihhrnv\n",
      "Handle: wsj.com\n",
      "Profile Image: https://cdn.bsky.app/img/avatar/plain/did:plc:i3fhjvvkbmirhyu4aeihhrnv/bafkreia4sbyxnecbgloskaa5ziul6sry6jj5ruujno67a27z6ssjhferni@jpeg\n",
      "Bio: Since 1889 🗞️\n",
      "\n",
      "Sign up for our newsletters and alerts: http://wsj.com/newsletters\n",
      "Got a tip? http://wsj.com/tips\n",
      "Follow our staff: https://go.bsky.app/2ppWqxF\n",
      "Join Date: 2024-11-13T16:25:19.574Z\n",
      "----------------------------------------\n",
      "Full Name: Post Sports \n",
      "DID: did:plc:iqsqujzwfu5eqgab7oxn4i54\n",
      "Handle: postsports.bsky.social\n",
      "Profile Image: https://cdn.bsky.app/img/avatar/plain/did:plc:iqsqujzwfu5eqgab7oxn4i54/bafkreidlftk2m3xloy3bekugg5kzp4gfbuh37f7e3orkxurohmfgh2cxfm@jpeg\n",
      "Bio: All things sports from The Washington Post.\n",
      "\n",
      "Read more coverage here: washingtonpost.com/sports\n",
      "Join Date: 2023-10-05T19:23:26.121Z\n",
      "----------------------------------------\n",
      "Full Name: The Athletic\n",
      "DID: did:plc:b2kutgxqlltwc6lhs724cfwr\n",
      "Handle: theathletic.bsky.social\n",
      "Profile Image: https://cdn.bsky.app/img/avatar/plain/did:plc:b2kutgxqlltwc6lhs724cfwr/bafkreidtcbmryuwpaxyaaexazmibozi7oakpn6x4ktdow227xky7dnmfa4@jpeg\n",
      "Bio: Get every sports story that matters.\n",
      "Join Date: 2023-05-22T18:10:58.179Z\n",
      "----------------------------------------\n",
      "Full Name: The New York Times\n",
      "DID: did:plc:eclio37ymobqex2ncko63h4r\n",
      "Handle: nytimes.com\n",
      "Profile Image: https://cdn.bsky.app/img/avatar/plain/did:plc:eclio37ymobqex2ncko63h4r/bafkreidvvqj5jymmpaeklwkpq6gi532el447mjy2yultuukypzqm5ohfju@jpeg\n",
      "Bio: In-depth, independent reporting to better understand the world, now on Bluesky. News tips? Share them here: http://nyti.ms/2FVHq9v\n",
      "Join Date: 2023-06-05T18:50:31.498Z\n",
      "----------------------------------------\n",
      "Full Name: Ripley Guru 🤖💙\n",
      "DID: did:plc:anwjjpvv3q4ppclqd2j2os6t\n",
      "Handle: ripleyguru.bsky.social\n",
      "Profile Image: https://cdn.bsky.app/img/avatar/plain/did:plc:anwjjpvv3q4ppclqd2j2os6t/bafkreibug57mcy5rjlhtry654vh425vczm3o4ru6pculjgdjcg4nbdiwla@jpeg\n",
      "Bio: Here you can enjoy a stream of breaking news articles (with linked citations) written by Ripley Guru, an AI platform.\n",
      "You can also sign up for a free account to chat with Ripley and author your own documents at https://ripley.guru.\n",
      "Cheers 🚀\n",
      "Join Date: 2025-01-09T21:28:38.243Z\n",
      "----------------------------------------\n",
      "Full Name: Ashley Willis-McNamara\n",
      "DID: did:plc:5tgxxpsiv36w3e37im6kd2se\n",
      "Handle: ashley.dev\n",
      "Profile Image: https://cdn.bsky.app/img/avatar/plain/did:plc:5tgxxpsiv36w3e37im6kd2se/bafkreifi4eyljcts2nbyilhvbpx73jncektv7iidf7eaub7wzomxk6fqmy@jpeg\n",
      "Bio: 👩‍💻 Sr Dir of DevRel at @GitHub. \n",
      "🔥 Grandmother of the first-ever hellthread. \n",
      "🖨️ Will probably convince you to buy a 3D printer.\n",
      "Join Date: 2023-04-22T07:12:17.803Z\n",
      "----------------------------------------\n",
      "Full Name: NBC News\n",
      "DID: did:plc:wmho6q2uiyktkam3jsvrms3s\n",
      "Handle: nbcnews.com\n",
      "Profile Image: https://cdn.bsky.app/img/avatar/plain/did:plc:wmho6q2uiyktkam3jsvrms3s/bafkreifjfoaox34dlcdm4dxje7x7awyyzqcw4jiv4x4i3lrxtyx63qdzru@jpeg\n",
      "Bio: News updates from around the 🌎, all day, every day.\n",
      "Join Date: 2023-05-31T01:09:28.017Z\n",
      "----------------------------------------\n",
      "Full Name: Edward Wong\n",
      "DID: did:plc:seo6yyjjmodps4imawf5xqpp\n",
      "Handle: ewong.bsky.social\n",
      "Profile Image: https://cdn.bsky.app/img/avatar/plain/did:plc:seo6yyjjmodps4imawf5xqpp/bafkreihhizhxcddegqkqjxgnyh7um6qga36hh34ikohfolbd3ab46rmigu@jpeg\n",
      "Bio: Diplomatic Correspondent for The New York Times\n",
      "Join Date: 2024-02-28T12:21:18.545Z\n",
      "----------------------------------------\n",
      "Full Name: NBC Select\n",
      "DID: did:plc:4nnote6ffpzmdnt4rmh77bgk\n",
      "Handle: nbcselect.nbcnews.com\n",
      "Profile Image: https://cdn.bsky.app/img/avatar/plain/did:plc:4nnote6ffpzmdnt4rmh77bgk/bafkreidgp7dwlhihuanxno7dpabsesslzrsf3eahrm3hcjf7tgfshj4fai@jpeg\n",
      "Bio: Shopping tips and inspiration to help you upgrade your life. Select may make a commission on your purchase. Part of NBC News\n",
      "\n",
      "Join Date: 2024-02-09T15:52:01.531Z\n",
      "----------------------------------------\n"
     ]
    }
   ],
   "source": [
    "for profile in profiles:\n",
    "    full_name = profile.display_name or profile.handle\n",
    "    did = profile.did\n",
    "    handle = profile.handle\n",
    "    profile_image = profile.avatar or \"No image available\"\n",
    "    bio = profile.description or \"No bio available\"\n",
    "    join_date = profile.created_at or \"No join date available\"\n",
    "\n",
    "    print(f\"Full Name: {full_name}\")\n",
    "    print(f\"DID: {did}\")\n",
    "    print(f\"Handle: {handle}\")\n",
    "    print(f\"Profile Image: {profile_image}\")\n",
    "    print(f\"Bio: {bio}\")\n",
    "    print(f\"Join Date: {join_date}\")\n",
    "    print(\"-\" * 40)\n"
   ]
  },
  {
   "cell_type": "code",
   "execution_count": null,
   "id": "e4ef9847",
   "metadata": {},
   "outputs": [],
   "source": []
  }
 ],
 "metadata": {
  "kernelspec": {
   "display_name": "env",
   "language": "python",
   "name": "python3"
  },
  "language_info": {
   "codemirror_mode": {
    "name": "ipython",
    "version": 3
   },
   "file_extension": ".py",
   "mimetype": "text/x-python",
   "name": "python",
   "nbconvert_exporter": "python",
   "pygments_lexer": "ipython3",
   "version": "3.10.9"
  }
 },
 "nbformat": 4,
 "nbformat_minor": 5
}
